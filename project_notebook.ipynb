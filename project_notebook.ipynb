{
  "cells": [
    {
      "cell_type": "markdown",
      "metadata": {
        "id": "4apokfN-5xfP"
      },
      "source": [
        "# **Data Exploration**"
      ]
    },
    {
      "cell_type": "markdown",
      "metadata": {
        "id": "L9p-j16y5xbQ"
      },
      "source": [
        "## Basic Info"
      ]
    },
    {
      "cell_type": "code",
      "execution_count": null,
      "metadata": {
        "id": "E31cV06Bm9r1"
      },
      "outputs": [],
      "source": [
        "import pandas as pd\n",
        "import matplotlib.pyplot as plt\n",
        "import plotly\n",
        "import plotly.express as px\n",
        "\n",
        "df = pd.read_csv('https://github.com/CS-132-Group-43/Marcos-Achievements/blob/5a16757bb02aaa0571b8b2dc41c005d5de709d0f/dataset/Dataset%20-%20Group%2043.csv?raw=true')\n",
        "\n",
        "# RESOURCES\n",
        "# https://pandas.pydata.org/docs/user_guide/timeseries.html\n",
        "# https://www.shiksha.com/online-courses/articles/working-with-date-and-time-in-pandas/\n",
        "# https://stackoverflow.com/questions/33271098/python-get-a-frequency-count-based-on-two-columns-variables-in-pandas-datafra"
      ]
    },
    {
      "cell_type": "code",
      "execution_count": null,
      "metadata": {
        "id": "cpfxK3p7rWXi"
      },
      "outputs": [],
      "source": [
        "print(df.shape)\n",
        "df.describe()\n",
        "\n",
        "# print(df.head(3))"
      ]
    },
    {
      "cell_type": "markdown",
      "metadata": {
        "id": "UoJSlWlriaHD"
      },
      "source": [
        "# Sample Tweets"
      ]
    },
    {
      "cell_type": "code",
      "execution_count": null,
      "metadata": {
        "id": "aVkSj5tIiZZf"
      },
      "outputs": [],
      "source": [
        "df.head(5)"
      ]
    },
    {
      "cell_type": "markdown",
      "metadata": {
        "id": "nn5VwnUy6Beg"
      },
      "source": [
        "## Finding and Filling Missing Values"
      ]
    },
    {
      "cell_type": "code",
      "execution_count": null,
      "metadata": {
        "id": "jyb935GW6HJU"
      },
      "outputs": [],
      "source": [
        "df_copy = df.copy(deep=True)\n",
        "new_copy = df_copy[:115].isnull()\n",
        "features = [\"Timestamp\", \"Tweet URL\", \"Tweet\", \"Date posted\"]\n",
        "# for feature in features:\n",
        "#   print(new_copy[feature].sum())\n",
        "# Missing 1 Tweet and Date Posted entry\n",
        "# MIssing values are filled manually\n",
        "\n",
        "df_new = pd.read_csv('https://github.com/CS-132-Group-43/Marcos-Achievements/blob/1f4d3f0bfb0fdc5e41e3b4e50db60568c8e16091/dataset/Dataset%20-%20Group%2043%20(Updated).csv?raw=true')"
      ]
    },
    {
      "cell_type": "markdown",
      "metadata": {
        "id": "LRWr-PSezw0A"
      },
      "source": [
        "## Visualization"
      ]
    },
    {
      "cell_type": "code",
      "execution_count": null,
      "metadata": {
        "id": "B6OX5MjF1aJp"
      },
      "outputs": [],
      "source": [
        "df_new[\"Date posted\"] = pd.to_datetime(df_new[\"Date posted\"], dayfirst=True, utc=True)\n",
        "df_new[\"Date posted\"].dt.tz_convert(\"Asia/Manila\")\n",
        "df_new[\"Year\"] = df_new[\"Date posted\"].dt.year\n",
        "df_new[\"Month\"] = df_new[\"Date posted\"].dt.month\n",
        "df_new[\"Day\"] = df_new[\"Date posted\"].dt.day\n",
        "\n",
        "twt_count = df_new.value_counts([\"Year\", \"Month\"])\n",
        "twt_count_w_day = df_new.value_counts([\"Year\", \"Month\", \"Day\"])\n",
        "\n",
        "twt_count[2021, 2] = 0\n",
        "twt_count[2021, 3] = 0\n",
        "twt_count[2021, 4] = 0\n",
        "twt_count[2021, 5] = 0\n",
        "twt_count[2021, 6] = 0\n",
        "twt_count[2021, 7] = 0\n",
        "twt_count[2021, 9] = 0\n",
        "\n",
        "twt_count[2022, 8] = 0\n",
        "twt_count[2022, 11] = 0\n",
        "\n",
        "for x in range(31):\n",
        "  twt_count_w_day[2021, 2, x] = 0\n",
        "  twt_count_w_day[2021, 3, x] = 0\n",
        "  twt_count_w_day[2021, 4, x] = 0\n",
        "  twt_count_w_day[2021, 5, x] = 0\n",
        "  twt_count_w_day[2021, 6, x] = 0\n",
        "  twt_count_w_day[2021, 7, x] = 0\n",
        "  twt_count_w_day[2021, 9, x] = 0\n",
        "\n",
        "  twt_count_w_day[2022, 8, x] = 0\n",
        "\n",
        "\n",
        "twt_count.sort_index(inplace=True)\n",
        "twt_count.drop(labels= [2016, 2019], inplace=True)\n",
        "fig1 = plt.figure(\"Line\")\n",
        "twt_count.plot(kind=\"line\", marker=\"o\", xlabel='(Year, Month)', ylabel='Tweet Count', color=\"maroon\")\n",
        "plt.title(\"Number of Tweets Per Month During 2021-2022\")\n",
        "\n",
        "twt_count_year = df_new.value_counts([\"Year\"])\n",
        "twt_count_year.sort_index(inplace=True)\n",
        "twt_count_year.drop(labels= [2016, 2019], inplace=True)\n",
        "fig2 = plt.figure(\"Bar\")\n",
        "twt_count_year.plot(kind=\"bar\", xlabel='Year', ylabel='Tweet Count', color=\"maroon\")\n",
        "plt.title(\"Number of Tweets During 2021 vs. 2022\")"
      ]
    },
    {
      "cell_type": "code",
      "execution_count": null,
      "metadata": {
        "id": "vyuFZy02JleA"
      },
      "outputs": [],
      "source": [
        "year_list = [2021.0, 2021.0, 2021.0, 2021.0, 2021.0, 2021.0, 2021.0, 2021.0, 2021.0, 2021.0, 2021.0, 2021.0,\n",
        "                 2022.0, 2022.0, 2022.0, 2022.0, 2022.0, 2022.0, 2022.0, 2022.0, 2022.0, 2022.0, 2022.0, 2022.0]\n",
        "month_list = [1.0, 2.0, 3.0, 4.0, 5.0, 6.0, 7.0, 8.0, 9.0, 10.0, 11.0, 12.0,\n",
        "                  1.0, 2.0, 3.0, 4.0, 5.0, 6.0, 7.0, 8.0, 9.0, 10.0, 11.0, 12.0]\n",
        "\n",
        "data_to_plot = pd.DataFrame(\n",
        "    {\n",
        "        'Year': year_list,\n",
        "        'Month': month_list,\n",
        "        'Date': [f\"{str(int(year_list[index]))}-{str(int(month_list[index]))}\" for index in range(len(year_list))],\n",
        "        'Count': list(twt_count)\n",
        "\n",
        "    }\n",
        ")\n",
        "\n",
        "data_to_plot['Date'] = pd.to_datetime(data_to_plot['Date'])\n",
        "\n",
        "print(data_to_plot)\n",
        "print()\n",
        "\n",
        "fig = px.line(data_to_plot, x=\"Date\", y=\"Count\", title='Number of Tweets Per Month During 2021-2022', width=1000)\n",
        "fig.update_traces(line=dict(color='darkred'))\n",
        "fig.show()\n",
        "# print(plotly.offline.plot(fig, include_plotlyjs=False, output_type='div'))"
      ]
    },
    {
      "cell_type": "markdown",
      "metadata": {
        "id": "t5K5Ta8JIPQK"
      },
      "source": [
        "# **Data Modeling**\n"
      ]
    },
    {
      "cell_type": "markdown",
      "metadata": {
        "id": "CZPt6Y4anENH"
      },
      "source": [
        "## Linear Regression"
      ]
    },
    {
      "cell_type": "code",
      "execution_count": null,
      "metadata": {
        "colab": {
          "base_uri": "https://localhost:8080/",
          "height": 35
        },
        "id": "j1wDwLInIosX",
        "outputId": "c6369b01-b1ef-4df7-9bb8-064bbdca8e49"
      },
      "outputs": [],
      "source": [
        "import numpy as np\n",
        "import scipy.stats as stats\n",
        "import seaborn as sns\n",
        "\n",
        "\"\"\"\n",
        "Suggestion:\n",
        "Fit segmented regression models (pre-announcement, post-announcement periods)\n",
        "\n",
        "Apply t-test to the slopes of each model and check for significant difference\n",
        "\"\"\"\n",
        "# RESOURCES\n",
        "# https://datagy.io/split-pandas-dataframe/\n",
        "# https://stackoverflow.com/questions/59975797/python-plotly-how-to-extract-m-and-b-from-ols-line\n",
        "# https://docs.scipy.org/doc/scipy/reference/generated/scipy.stats.ttest_ind.html"
      ]
    },
    {
      "cell_type": "code",
      "execution_count": null,
      "metadata": {
        "colab": {
          "base_uri": "https://localhost:8080/",
          "height": 577
        },
        "id": "0FNm24vSZlt8",
        "outputId": "e30f9c87-03ce-4191-9ad1-11dbc93bb29c"
      },
      "outputs": [],
      "source": [
        "pre_announce = data_to_plot.iloc[:10]\n",
        "fig_1 = px.scatter(pre_announce, x=\"Date\", y=\"Count\", title='Number of Tweets Per Month Pre-Announcement', opacity=0.75, trendline='ols', trendline_color_override='darkslategray')\n",
        "fig_1.update_traces(marker=dict(color='firebrick'))\n",
        "fig_1.show()\n",
        "# print(plotly.offline.plot(fig_1, include_plotlyjs=False, output_type='div'))\n",
        "\n",
        "print()\n",
        "pre_fit = px.get_trendline_results(fig_1).px_fit_results.iloc[0]\n",
        "pre_slope = pre_fit.params[1]\n",
        "pre_intercept = pre_fit.params[0]\n",
        "print(f\"Slope of linear fit pre-announcement: {pre_slope}\")"
      ]
    },
    {
      "cell_type": "code",
      "execution_count": null,
      "metadata": {
        "colab": {
          "base_uri": "https://localhost:8080/",
          "height": 577
        },
        "id": "nIIkv-6Od4rs",
        "outputId": "e5e3d1af-3188-485c-c263-6f761d6546ff"
      },
      "outputs": [],
      "source": [
        "post_announce = data_to_plot.iloc[9:]\n",
        "fig_2 = px.scatter(post_announce, x=\"Date\", y=\"Count\", title='Number of Tweets Per Month Post-Announcement', opacity=0.75, trendline='ols', trendline_color_override='darkslategray')\n",
        "fig_2.update_traces(marker=dict(color='firebrick'))\n",
        "fig_2.show()\n",
        "# print(plotly.offline.plot(fig_2, include_plotlyjs=False, output_type='div'))\n",
        "\n",
        "print()\n",
        "post_fit = px.get_trendline_results(fig_2).px_fit_results.iloc[0]\n",
        "post_slope = post_fit.params[1]\n",
        "post_intercept = post_fit.params[0]\n",
        "print(f\"Slope of linear fit post-announcement: {post_slope}\")"
      ]
    },
    {
      "cell_type": "code",
      "execution_count": null,
      "metadata": {
        "colab": {
          "base_uri": "https://localhost:8080/",
          "height": 579
        },
        "id": "TBDdfgjw5r1l",
        "outputId": "c04075e4-8003-4c84-e5cc-f90b8b0cc0f2"
      },
      "outputs": [],
      "source": [
        "fig.add_traces(list(fig_1.select_traces()))\n",
        "fig.add_traces(list(fig_2.select_traces()))\n",
        "fig.add_vline(x=data_to_plot['Date'][9], line_width=1, line_dash=\"dash\")\n",
        "fig.add_vrect(x0=data_to_plot['Date'][8], x1=data_to_plot['Date'][10], line_width=0, fillcolor=\"red\", opacity=0.2)\n",
        "fig.add_vrect(x0=data_to_plot['Date'][11], x1=data_to_plot['Date'][13], line_width=0, fillcolor=\"red\", opacity=0.2)\n",
        "fig.add_vrect(x0=data_to_plot['Date'][14], x1=data_to_plot['Date'][16], line_width=0, fillcolor=\"red\", opacity=0.2)\n",
        "fig.show()\n",
        "\n",
        "print(plotly.offline.plot(fig, include_plotlyjs=False, output_type='div'))"
      ]
    },
    {
      "cell_type": "markdown",
      "metadata": {
        "id": "1F9ANB1jnHVo"
      },
      "source": [
        "## Hypothesis Testing"
      ]
    },
    {
      "cell_type": "code",
      "execution_count": null,
      "metadata": {
        "colab": {
          "base_uri": "https://localhost:8080/"
        },
        "id": "pNTXjKvMnJGX",
        "outputId": "2c1e7f56-a059-4b4d-85c2-59716e2dfd9b"
      },
      "outputs": [],
      "source": [
        "pre_count = pre_announce['Count']\n",
        "post_count = post_announce['Count']\n",
        "\n",
        "print(pre_count)\n",
        "print(post_count)\n",
        "\n",
        "t_stat, p_val = stats.ttest_ind(pre_count, post_count)\n",
        "\n",
        "print((t_stat, p_val))\n",
        "alpha = 0.05\n",
        "if p_val < alpha:\n",
        "    print(\"Reject the null hypothesis\")\n",
        "else:\n",
        "    print(\"Fail to reject the null hypothesis\")"
      ]
    },
    {
      "cell_type": "code",
      "execution_count": null,
      "metadata": {
        "colab": {
          "base_uri": "https://localhost:8080/"
        },
        "id": "-3biN8q5163S",
        "outputId": "4124f1c1-e733-4b4a-e4ef-19ce393d685d"
      },
      "outputs": [],
      "source": [
        "# const: constant term, i.e. y intercept\n",
        "# x1: x term, i.e. the slope, what we're trying to compare\n",
        "\n",
        "print(pre_fit.summary())\n",
        "print(post_fit.summary())"
      ]
    },
    {
      "cell_type": "code",
      "execution_count": null,
      "metadata": {
        "colab": {
          "base_uri": "https://localhost:8080/"
        },
        "id": "7BkBIxN_2rEy",
        "outputId": "b2e2f07d-2c04-4436-9a42-fd008ed0c3b0"
      },
      "outputs": [],
      "source": [
        "print(pre_fit.bse[1])\n",
        "print(post_fit.bse[1])"
      ]
    },
    {
      "cell_type": "code",
      "execution_count": null,
      "metadata": {
        "colab": {
          "base_uri": "https://localhost:8080/"
        },
        "id": "r6BInQbegu-n",
        "outputId": "d1a88ed3-57d5-4cf9-cc2d-435b1acf6dc1"
      },
      "outputs": [],
      "source": [
        "# x1, x2 = slopes; pre_slope, post_slope\n",
        "# n1, n2 = sample sizes for pre and post\n",
        "# s1, s2 = stderr from scipy.stats.linregress\n",
        "\n",
        "n1 = 10\n",
        "n2 = 15\n",
        "s1 = pre_fit.bse[1]\n",
        "s2 = post_fit.bse[1]\n",
        "\n",
        "# Compute t-statistic\n",
        "t_statistic = (pre_slope - post_slope) / np.sqrt((s1**2 / n1) + (s2**2 / n2))\n",
        "\n",
        "# Degrees of freedom\n",
        "df = n1 + n2 - 2\n",
        "\n",
        "# Compute p-value\n",
        "p_value = 2 * (1 - stats.t.cdf(np.abs(t_statistic), df))\n",
        "\n",
        "# Critical value at alpha = 0.05\n",
        "t_critical = stats.t.ppf(0.975, df)\n",
        "\n",
        "# Output results\n",
        "print(\"T-Statistic:\", t_statistic)\n",
        "print(\"P-Value:\", p_value)\n",
        "print(\"Degrees of Freedom:\", df)\n",
        "print(\"Critical Value (alpha=0.05):\", t_critical)\n",
        "\n",
        "# Compare p-value with alpha\n",
        "alpha = 0.05\n",
        "if p_value <= alpha:\n",
        "    print(\"Reject the null hypothesis\")\n",
        "else:\n",
        "    print(\"Fail to reject the null hypothesis\")"
      ]
    },
    {
      "cell_type": "markdown",
      "metadata": {
        "id": "YpKKP9_lfB_M"
      },
      "source": [
        "## Data Interpretation"
      ]
    },
    {
      "cell_type": "markdown",
      "metadata": {
        "id": "5FnY_6zc7APf"
      },
      "source": [
        "\n",
        "---\n",
        "We split our dataset into two: the first containing tweets posted before\n",
        "Marcos' announcement and the second containing those posted after. Using linear regression, we were able to find a line of best fit for both groups to visualize the general trend in the tweet count before and after. We compared the slopes of the two regression models. And using the statistical t-test, we were able to get a p-value of 1.47e-10, which is a very small number.\n",
        "\n",
        "This means that we can say that the slopes of the two models are statistically significant, aside from the fact that the first model has a positive slope while the latter, a negative slope.\n",
        "\n",
        "---\n",
        "\n"
      ]
    }
  ],
  "metadata": {
    "colab": {
      "provenance": [],
      "toc_visible": true
    },
    "kernelspec": {
      "display_name": "Python 3",
      "name": "python3"
    },
    "language_info": {
      "name": "python"
    }
  },
  "nbformat": 4,
  "nbformat_minor": 0
}
